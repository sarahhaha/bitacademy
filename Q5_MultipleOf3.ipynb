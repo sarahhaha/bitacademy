{
 "cells": [
  {
   "cell_type": "code",
   "execution_count": 3,
   "metadata": {},
   "outputs": [
    {
     "name": "stdout",
     "output_type": "stream",
     "text": [
      "This program prints the multiple of 3 from 1 to 100\n",
      "[3, 6, 9, 12, 15, 18, 21, 24, 27, 30, 33, 36, 39, 42, 45, 48, 51, 54, 57, 60, 63, 66, 69, 72, 75, 78, 81, 84, 87, 90, 93, 96, 99]\n"
     ]
    }
   ],
   "source": [
    "print('This program prints the multiple of 3 from 1 to 100')\n",
    "one_to_hundred = []\n",
    "multiple_of_three = []\n",
    "for i in range(1,101,1):\n",
    "    one_to_hundred.append(i)\n",
    "\n",
    "for number in one_to_hundred:\n",
    "    if number % 3 == 0:\n",
    "        multiple_of_three.append(number)\n",
    "    \n",
    "print(multiple_of_three)"
   ]
  }
 ],
 "metadata": {
  "kernelspec": {
   "display_name": "Python 3",
   "language": "python",
   "name": "python3"
  },
  "language_info": {
   "codemirror_mode": {
    "name": "ipython",
    "version": 3
   },
   "file_extension": ".py",
   "mimetype": "text/x-python",
   "name": "python",
   "nbconvert_exporter": "python",
   "pygments_lexer": "ipython3",
   "version": "3.8.3"
  }
 },
 "nbformat": 4,
 "nbformat_minor": 4
}
