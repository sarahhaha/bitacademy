{
 "cells": [
  {
   "cell_type": "code",
   "execution_count": 8,
   "metadata": {},
   "outputs": [
    {
     "name": "stdout",
     "output_type": "stream",
     "text": [
      "Make your guess!39\n",
      "guess가 너무 작습니다\n",
      "Make your guess!59\n",
      "guess가 너무 작습니다\n",
      "Make your guess!60\n",
      "guess가 너무 작습니다\n",
      "Make your guess!8\n",
      "guess가 너무 작습니다\n",
      "Make your guess!80\n",
      "guess가 너무 작습니다\n",
      "Make your guess!90\n",
      "정답입니다. 입력한 숫자는 90 입니다. 시도 횟수는  6 번입니다.\n"
     ]
    }
   ],
   "source": [
    "from random import randint\n",
    "\n",
    "random_num = randint(1,100)\n",
    "count = 1\n",
    "guess = int(input('Make your guess!'))\n",
    "while guess != random_num:\n",
    "    if guess > random_num:\n",
    "        print('guess가 너무 큽니다')\n",
    "    else:\n",
    "        print('guess가 너무 작습니다')\n",
    "    count+=1\n",
    "    guess = int(input('Make your guess!'))\n",
    "\n",
    "print('정답입니다. 입력한 숫자는', random_num,'입니다.', '시도 횟수는 ', count,'번입니다.')"
   ]
  },
  {
   "cell_type": "code",
   "execution_count": null,
   "metadata": {},
   "outputs": [],
   "source": []
  }
 ],
 "metadata": {
  "kernelspec": {
   "display_name": "Python 3",
   "language": "python",
   "name": "python3"
  },
  "language_info": {
   "codemirror_mode": {
    "name": "ipython",
    "version": 3
   },
   "file_extension": ".py",
   "mimetype": "text/x-python",
   "name": "python",
   "nbconvert_exporter": "python",
   "pygments_lexer": "ipython3",
   "version": "3.8.3"
  }
 },
 "nbformat": 4,
 "nbformat_minor": 4
}
