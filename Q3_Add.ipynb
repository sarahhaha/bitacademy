{
 "cells": [
  {
   "cell_type": "code",
   "execution_count": 6,
   "metadata": {},
   "outputs": [
    {
     "name": "stdout",
     "output_type": "stream",
     "text": [
      "99+17116\n",
      "정답입니다\n",
      "다음문제를 푸시겠습니까? (Y/N)y\n",
      "79+86165\n",
      "정답입니다\n",
      "다음문제를 푸시겠습니까? (Y/N)y\n",
      "61+31922\n",
      "오답입니다\n",
      "다음문제를 푸시겠습니까? (Y/N)n\n",
      "게임을 끝냅니다\n"
     ]
    }
   ],
   "source": [
    "from random import randint\n",
    "next_round = True\n",
    "yes_or_no = ''\n",
    "while next_round is True:\n",
    "    random_num1 = randint(1,100)\n",
    "    random_num2 = randint(1,100)\n",
    "    answer = random_num1 + random_num2\n",
    "    your_answer = int(input(str(random_num1) + '+' + str(random_num2)))\n",
    "    if answer == your_answer:\n",
    "        print('정답입니다')\n",
    "    else:\n",
    "        print('오답입니다')\n",
    "    \n",
    "    while not yes_or_no == 'n' or not yes_or_no == 'y':\n",
    "        yes_or_no = input('다음문제를 푸시겠습니까? (Y/N)')\n",
    "        if yes_or_no == 'y' or yes_or_no == 'n':\n",
    "            break\n",
    "        else:\n",
    "            print('y 또는 n을 입력하시오')\n",
    "    if yes_or_no == 'n':\n",
    "        print('게임을 끝냅니다')\n",
    "        break\n",
    "        \n"
   ]
  },
  {
   "cell_type": "code",
   "execution_count": null,
   "metadata": {},
   "outputs": [],
   "source": []
  }
 ],
 "metadata": {
  "kernelspec": {
   "display_name": "Python 3",
   "language": "python",
   "name": "python3"
  },
  "language_info": {
   "codemirror_mode": {
    "name": "ipython",
    "version": 3
   },
   "file_extension": ".py",
   "mimetype": "text/x-python",
   "name": "python",
   "nbconvert_exporter": "python",
   "pygments_lexer": "ipython3",
   "version": "3.8.3"
  }
 },
 "nbformat": 4,
 "nbformat_minor": 4
}
