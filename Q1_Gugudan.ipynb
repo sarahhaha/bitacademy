{
 "cells": [
  {
   "cell_type": "code",
   "execution_count": 11,
   "metadata": {},
   "outputs": [
    {
     "name": "stdout",
     "output_type": "stream",
     "text": [
      "구구단 몇 단을 계산할까?10\n",
      "1 과 9 사이의 숫자를 대시오\n",
      "구구단 몇 단을 계산할까?0\n",
      "1 과 9 사이의 숫자를 대시오\n",
      "구구단 몇 단을 계산할까?100\n",
      "1 과 9 사이의 숫자를 대시오\n",
      "구구단 몇 단을 계산할까?9\n",
      "구구단  9 을 계산한다.\n",
      "9 * 1 = 9\n",
      "9 * 2 = 18\n",
      "9 * 3 = 27\n",
      "9 * 4 = 36\n",
      "9 * 5 = 45\n",
      "9 * 6 = 54\n",
      "9 * 7 = 63\n",
      "9 * 8 = 72\n",
      "9 * 9 = 81\n"
     ]
    }
   ],
   "source": [
    "gugudan_num = int(input('구구단 몇 단을 계산할까?'))\n",
    "while gugudan_num < 1 or gugudan_num > 9:\n",
    "    print ('1 과 9 사이의 숫자를 대시오')\n",
    "    gugudan_num = int(input('구구단 몇 단을 계산할까?'))\n",
    "    \n",
    "print('구구단 ', gugudan_num,'을 계산한다.')\n",
    "for i in range(1,10,1):\n",
    "    print(gugudan_num, '*', i, '=', gugudan_num*i)"
   ]
  }
 ],
 "metadata": {
  "kernelspec": {
   "display_name": "Python 3",
   "language": "python",
   "name": "python3"
  },
  "language_info": {
   "codemirror_mode": {
    "name": "ipython",
    "version": 3
   },
   "file_extension": ".py",
   "mimetype": "text/x-python",
   "name": "python",
   "nbconvert_exporter": "python",
   "pygments_lexer": "ipython3",
   "version": "3.8.3"
  }
 },
 "nbformat": 4,
 "nbformat_minor": 4
}
