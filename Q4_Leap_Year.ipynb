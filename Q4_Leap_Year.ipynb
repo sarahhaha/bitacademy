{
 "cells": [
  {
   "cell_type": "code",
   "execution_count": 3,
   "metadata": {},
   "outputs": [
    {
     "name": "stdout",
     "output_type": "stream",
     "text": [
      "This program tells you whether the year you enter is a leap year or not\n",
      "Type in the year: 1800\n",
      "윤년이 아닙니다.\n"
     ]
    }
   ],
   "source": [
    "print('This program tells you whether the year you enter is a leap year or not')\n",
    "input_year = int(input('Type in the year: '))\n",
    "leap_year = False\n",
    "if input_year % 400 == 0 or input_year % 4 == 0 and not input_year % 100 == 0:\n",
    "    leap_year = True\n",
    "\n",
    "if leap_year:\n",
    "    print('윤년입니다.')\n",
    "else:\n",
    "    print('윤년이 아닙니다.')"
   ]
  }
 ],
 "metadata": {
  "kernelspec": {
   "display_name": "Python 3",
   "language": "python",
   "name": "python3"
  },
  "language_info": {
   "codemirror_mode": {
    "name": "ipython",
    "version": 3
   },
   "file_extension": ".py",
   "mimetype": "text/x-python",
   "name": "python",
   "nbconvert_exporter": "python",
   "pygments_lexer": "ipython3",
   "version": "3.8.3"
  }
 },
 "nbformat": 4,
 "nbformat_minor": 4
}
